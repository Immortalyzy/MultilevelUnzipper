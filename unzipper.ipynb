{
 "cells": [
  {
   "cell_type": "code",
   "execution_count": 1,
   "metadata": {},
   "outputs": [],
   "source": [
    "import py7zr\n",
    "import os\n",
    "import shutil\n",
    "import subprocess"
   ]
  },
  {
   "cell_type": "code",
   "execution_count": 2,
   "metadata": {},
   "outputs": [],
   "source": [
    "# find the 7z.exe\n",
    "def find7z():\n",
    "    path = shutil.which(\"7z.exe\")\n",
    "    if path is None:\n",
    "        # check if 7z.exe is in the default installation directory\n",
    "        if os.path.exists(\"C:\\\\Program Files\\\\7-Zip\\\\7z.exe\"):\n",
    "            path = \"C:\\\\Program Files\\\\7-Zip\\\\7z.exe\"\n",
    "            return path\n",
    "        elif os.path.exists(\"C:\\\\Program Files (x86)\\\\7-Zip\\\\7z.exe\"):\n",
    "            path = \"C:\\\\Program Files (x86)\\\\7-Zip\\\\7z.exe\"\n",
    "            return path\n",
    "        else:\n",
    "            print(\"7z.exe not found, please specify the path to 7z.exe\")\n",
    "            return None\n",
    "    return path"
   ]
  },
  {
   "cell_type": "code",
   "execution_count": 3,
   "metadata": {},
   "outputs": [],
   "source": [
    "path = find7z()\n",
    "if path is None:\n",
    "    print(\"7z.exe not found\")"
   ]
  },
  {
   "cell_type": "code",
   "execution_count": 4,
   "metadata": {},
   "outputs": [],
   "source": [
    "# get password list \n",
    "def getPasswordList():\n",
    "    passwordList = []\n",
    "    with open(\"./passwords.txt\", \"r\") as f:\n",
    "        for line in f:\n",
    "            passwordList.append(line.strip())\n",
    "        passwordList.append(\"\")\n",
    "    return passwordList"
   ]
  },
  {
   "cell_type": "code",
   "execution_count": 14,
   "metadata": {},
   "outputs": [],
   "source": [
    "passwords = getPasswordList()\n",
    "\n",
    "# unzip a file\n",
    "def unzipFileWith7z(file, passwordList=passwords, autodelete=False, autodeleteexisting=False, lv=0, maximum_lv=2):\n",
    "    has_archive = False\n",
    "    password_protected = False\n",
    "\n",
    "    # check if the file exists\n",
    "    if not os.path.exists(file):\n",
    "        print(f\"File {file} does not exist\")\n",
    "        return\n",
    "\n",
    "    # check if is a .lib file, if yes skip\n",
    "    # TODO: maybe a temporary solution, need to find a way to unzip .lib files\n",
    "    if file.endswith(\".lib\"):\n",
    "        print(f\"File {file} is a .lib file, skipping...\")\n",
    "        return\n",
    "\n",
    "    # check if the output directory already exists\n",
    "    if os.path.exists(f\"{file}lv{lv:d}\"):\n",
    "        if autodeleteexisting:\n",
    "            print(f\"Output directory {file}lv{lv:d} already exists, deleting...\")\n",
    "            shutil.rmtree(f\"{file}lv{lv:d}\")\n",
    "        else:\n",
    "            print(f\"Output directory {file}lv{lv:d} already exists, skipping...\")\n",
    "            return\n",
    "\n",
    "    # unzip without password\n",
    "    result = subprocess.run([path, \"x\", \"-p\", file,  f\"-o{file}lv{lv:d}\"], capture_output=True,  stdin=subprocess.DEVNULL)\n",
    "    if result.returncode == 2 and result.stderr.decode(\"utf-8\", errors=\"replace\").find(\"Wrong password\") != -1:\n",
    "        print(f\"Archive {file} is password protected\")\n",
    "        shutil.rmtree(f\"{file}lv{lv:d}\", ignore_errors=True)\n",
    "        has_archive = True\n",
    "        password_protected = True\n",
    "    if result.returncode == 2 and result.stderr.decode(\"utf-8\", errors=\"replace\").find(\"Cannot open the file as archive\") != -1:\n",
    "        if lv == 0:\n",
    "            print(f\"File \\\"{file}\\\" is not an archive\")\n",
    "        shutil.rmtree(f\"{file}lv{lv:d}\", ignore_errors=True)\n",
    "        return False\n",
    "    if result.returncode == 0:\n",
    "        print(f\"Archive {file} is not password protected, unzipped to {file}lv{lv:d}\")\n",
    "        has_archive = True\n",
    "\n",
    "    # unzip with password\n",
    "    if password_protected:\n",
    "        for password in passwords:\n",
    "            result = subprocess.run([path, \"x\", f\"-p{password}\", file,  f\"-o{file}lv{lv:d}\"], capture_output=True,  stdin=subprocess.DEVNULL)\n",
    "            if result.returncode == 2 and result.stderr.decode(\"utf-8\", errors=\"replace\").find(\"Wrong password\") != -1:\n",
    "                shutil.rmtree(f\"{file}lv{lv:d}\", ignore_errors=True)\n",
    "            else:\n",
    "                print(f\"Correct password for {file} is {password}, unzipped to {file}lv{lv:d}\")\n",
    "                has_archive = True\n",
    "                break\n",
    "    \n",
    "    if has_archive:\n",
    "        files = os.listdir(f\"{file}lv{lv:d}\")\n",
    "\n",
    "        # check if the file just unzipped is a normal file\n",
    "        is_normal_dll = 0\n",
    "        if '.rdata' in files: \n",
    "            is_normal_dll += 1\n",
    "        if '.text' in files:\n",
    "            is_normal_dll += 1\n",
    "        if '.data' in files:\n",
    "            is_normal_dll += 1\n",
    "        if '.idata' in files:\n",
    "            is_normal_dll += 1\n",
    "        if is_normal_dll >= 2:\n",
    "            print(f\"File {file} is a normal file, skipping...\")\n",
    "            shutil.rmtree(path=f\"{file}lv{lv:d}\", ignore_errors=True)\n",
    "            return False, lv\n",
    "        \n",
    "        # check if last level is reached\n",
    "        # criteria 1 : files just extracted contains at the same time .dll and .exe files (it is a program)\n",
    "        contains_dll = False\n",
    "        contains_exe = False\n",
    "        for root, dirs, files in os.walk(f\"{file}lv{lv:d}\"):\n",
    "            for file_ in files:\n",
    "                if file_.endswith(\".dll\"):\n",
    "                    contains_dll = True\n",
    "                if file_.endswith(\".exe\"):\n",
    "                    contains_exe = True\n",
    "        if contains_dll and contains_exe:\n",
    "            print(f\"File {file} is a program, will not go to next level\")\n",
    "            return False, lv\n",
    "\n",
    "        # criteria 2 : files just extracted contains at the same time .exe files and folders (it is a program without .dll files)\n",
    "        contains_folder = False\n",
    "        if any(os.path.isdir(os.path.join(f\"{file}lv{lv:d}\", item)) for item in os.listdir(f\"{file}lv{lv:d}\")):\n",
    "            contains_folder = True\n",
    "        \n",
    "        if contains_exe and contains_folder:\n",
    "            print(f\"File {file} is a program, will not go to next level\")\n",
    "            return False, lv\n",
    "\n",
    "        # other files without .dll or .exe files will automatically stop at the next level\n",
    "\n",
    "        print(f\"Archive {file} has been unzipped to {file}lv{lv:d}, going to next level\")\n",
    "        lv += 1\n",
    "        # recursively unzip the files in the directory just created\n",
    "        for root, dirs, files in os.walk(f\"{file}lv{lv-1:d}\"):\n",
    "            for file in files:\n",
    "                unzipFileWith7z(os.path.join(root, file), passwordList, autodelete, autodeleteexisting, lv)\n",
    "        return True, lv\n",
    "    return False, lv\n",
    "    "
   ]
  },
  {
   "cell_type": "code",
   "execution_count": 15,
   "metadata": {},
   "outputs": [
    {
     "name": "stdout",
     "output_type": "stream",
     "text": [
      "Output directory ./test/NO.071\\0071第2层压缩.01lv0 already exists, deleting...\n",
      "The history saving thread hit an unexpected error (OperationalError('database or disk is full')).History will not be written to the database.\n",
      "Archive ./test/NO.071\\0071第2层压缩.01 is password protected\n",
      "Correct password for ./test/NO.071\\0071第2层压缩.01 is www.acgbuluo.com, unzipped to ./test/NO.071\\0071第2层压缩.01lv0\n",
      "Archive ./test/NO.071\\0071第2层压缩.01 has been unzipped to ./test/NO.071\\0071第2层压缩.01lv0, going to next level\n",
      "Archive ./test/NO.071\\0071第2层压缩.01lv0\\NO.07110月会员partme_第1层压缩.rar is password protected\n",
      "Correct password for ./test/NO.071\\0071第2层压缩.01lv0\\NO.07110月会员partme_第1层压缩.rar is www.acgbuluo.com, unzipped to ./test/NO.071\\0071第2层压缩.01lv0\\NO.07110月会员partme_第1层压缩.rarlv1\n",
      "Archive ./test/NO.071\\0071第2层压缩.01lv0\\NO.07110月会员partme_第1层压缩.rar has been unzipped to ./test/NO.071\\0071第2层压缩.01lv0\\NO.07110月会员partme_第1层压缩.rarlv1, going to next level\n",
      "Archive ./test/NO.071\\0071第2层压缩.01lv0\\NO.07110月会员partme_第1层压缩.rar is password protected\n",
      "Correct password for ./test/NO.071\\0071第2层压缩.01lv0\\NO.07110月会员partme_第1层压缩.rar is www.acgbuluo.com, unzipped to ./test/NO.071\\0071第2层压缩.01lv0\\NO.07110月会员partme_第1层压缩.rarlv0\n"
     ]
    },
    {
     "ename": "FileNotFoundError",
     "evalue": "[WinError 3] The system cannot find the path specified: './test/NO.071\\\\0071第2层压缩.01lv0\\\\NO.07110月会员partme_第1层压缩.rarlv0'",
     "output_type": "error",
     "traceback": [
      "\u001b[1;31m---------------------------------------------------------------------------\u001b[0m",
      "\u001b[1;31mFileNotFoundError\u001b[0m                         Traceback (most recent call last)",
      "\u001b[1;32m~\\AppData\\Local\\Temp/ipykernel_29896/1134814474.py\u001b[0m in \u001b[0;36m<module>\u001b[1;34m\u001b[0m\n\u001b[0;32m      1\u001b[0m \u001b[1;32mfor\u001b[0m \u001b[0mroot\u001b[0m\u001b[1;33m,\u001b[0m \u001b[0mdirs\u001b[0m\u001b[1;33m,\u001b[0m \u001b[0mfiles\u001b[0m \u001b[1;32min\u001b[0m \u001b[0mos\u001b[0m\u001b[1;33m.\u001b[0m\u001b[0mwalk\u001b[0m\u001b[1;33m(\u001b[0m\u001b[1;34m\"./test/\"\u001b[0m\u001b[1;33m)\u001b[0m\u001b[1;33m:\u001b[0m\u001b[1;33m\u001b[0m\u001b[1;33m\u001b[0m\u001b[0m\n\u001b[0;32m      2\u001b[0m     \u001b[1;32mfor\u001b[0m \u001b[0mfile\u001b[0m \u001b[1;32min\u001b[0m \u001b[0mfiles\u001b[0m\u001b[1;33m:\u001b[0m\u001b[1;33m\u001b[0m\u001b[1;33m\u001b[0m\u001b[0m\n\u001b[1;32m----> 3\u001b[1;33m         \u001b[0munzipFileWith7z\u001b[0m\u001b[1;33m(\u001b[0m\u001b[0mos\u001b[0m\u001b[1;33m.\u001b[0m\u001b[0mpath\u001b[0m\u001b[1;33m.\u001b[0m\u001b[0mjoin\u001b[0m\u001b[1;33m(\u001b[0m\u001b[0mroot\u001b[0m\u001b[1;33m,\u001b[0m \u001b[0mfile\u001b[0m\u001b[1;33m)\u001b[0m\u001b[1;33m,\u001b[0m \u001b[0mautodeleteexisting\u001b[0m\u001b[1;33m=\u001b[0m\u001b[1;32mTrue\u001b[0m\u001b[1;33m,\u001b[0m \u001b[1;33m)\u001b[0m\u001b[1;33m\u001b[0m\u001b[1;33m\u001b[0m\u001b[0m\n\u001b[0m",
      "\u001b[1;32m~\\AppData\\Local\\Temp/ipykernel_29896/578871472.py\u001b[0m in \u001b[0;36munzipFileWith7z\u001b[1;34m(file, passwordList, autodelete, autodeleteexisting, lv, maximum_lv)\u001b[0m\n\u001b[0;32m     54\u001b[0m \u001b[1;33m\u001b[0m\u001b[0m\n\u001b[0;32m     55\u001b[0m     \u001b[1;32mif\u001b[0m \u001b[0mhas_archive\u001b[0m\u001b[1;33m:\u001b[0m\u001b[1;33m\u001b[0m\u001b[1;33m\u001b[0m\u001b[0m\n\u001b[1;32m---> 56\u001b[1;33m         \u001b[0mfiles\u001b[0m \u001b[1;33m=\u001b[0m \u001b[0mos\u001b[0m\u001b[1;33m.\u001b[0m\u001b[0mlistdir\u001b[0m\u001b[1;33m(\u001b[0m\u001b[1;34mf\"{file}lv{lv:d}\"\u001b[0m\u001b[1;33m)\u001b[0m\u001b[1;33m\u001b[0m\u001b[1;33m\u001b[0m\u001b[0m\n\u001b[0m\u001b[0;32m     57\u001b[0m \u001b[1;33m\u001b[0m\u001b[0m\n\u001b[0;32m     58\u001b[0m         \u001b[1;31m# check if the file just unzipped is a normal file\u001b[0m\u001b[1;33m\u001b[0m\u001b[1;33m\u001b[0m\u001b[0m\n",
      "\u001b[1;31mFileNotFoundError\u001b[0m: [WinError 3] The system cannot find the path specified: './test/NO.071\\\\0071第2层压缩.01lv0\\\\NO.07110月会员partme_第1层压缩.rarlv0'"
     ]
    }
   ],
   "source": [
    "for root, dirs, files in os.walk(\"./test/\"):\n",
    "    for file in files:\n",
    "        unzipFileWith7z(os.path.join(root, file), autodeleteexisting=True, )"
   ]
  },
  {
   "cell_type": "code",
   "execution_count": null,
   "metadata": {},
   "outputs": [],
   "source": [
    "# unzip archives under a certain directory\n",
    "def unzipDirectory(directory, passwordList=[\"\"], autoDelete=False):\n",
    "    # list files and directories under the directory\n",
    "    entries = os.listdir(directory)\n",
    "\n",
    "    # loop through the entries\n",
    "    for count, entry in enumerate(entries):\n",
    "        # get full path of the entry\n",
    "        fullPath = os.path.join(directory, entry)\n",
    "\n",
    "        # check if the entry is a file or directory\n",
    "        if os.path.isdir(fullPath):\n",
    "            # if directory, recursively call this function\n",
    "            unzipDirectory(fullPath, passwordList, autoDelete)\n",
    "        else:\n",
    "            # if file, unzip it\n",
    "            unzipFile(fullPath, passwordList)\n",
    "\n",
    "            # if autoDelete is True, delete the file\n",
    "            if autoDelete:\n",
    "                os.remove(fullPath)\n",
    "\n",
    "    return\n"
   ]
  },
  {
   "cell_type": "code",
   "execution_count": null,
   "metadata": {},
   "outputs": [],
   "source": []
  },
  {
   "cell_type": "code",
   "execution_count": null,
   "metadata": {},
   "outputs": [],
   "source": [
    "# unzip a single volume archive \n",
    "def unzipFile(file, passwordList=[\"\"]):\n",
    "\n",
    "    return\n",
    "\n",
    "# unzip a multi-volume archive \n",
    "def unzipMultiVolumeFile(files, passwordList=[\"\"]):\n",
    "    return\n",
    "\n",
    "\n",
    "def checkIfMultiVolume(file):\n",
    "    return"
   ]
  }
 ],
 "metadata": {
  "kernelspec": {
   "display_name": "Python 3.9.7 ('base')",
   "language": "python",
   "name": "python3"
  },
  "language_info": {
   "codemirror_mode": {
    "name": "ipython",
    "version": 3
   },
   "file_extension": ".py",
   "mimetype": "text/x-python",
   "name": "python",
   "nbconvert_exporter": "python",
   "pygments_lexer": "ipython3",
   "version": "3.9.7"
  },
  "orig_nbformat": 4,
  "vscode": {
   "interpreter": {
    "hash": "e3621110486afd2222618b4ea1828be4e87db94289b439ca43965bce39fd4d08"
   }
  }
 },
 "nbformat": 4,
 "nbformat_minor": 2
}
