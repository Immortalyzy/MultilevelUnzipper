{
    "cells": [
        {
            "cell_type": "code",
            "execution_count": 1,
            "metadata": {},
            "outputs": [],
            "source": [
                "import main as uz"
            ]
        },
        {
            "cell_type": "code",
            "execution_count": 2,
            "metadata": {},
            "outputs": [
                {
                    "data": {
                        "text/plain": [
                            "<module 'main' from 'c:\\\\Users\\\\MrVergil\\\\Desktop\\\\Work\\\\MultilevelUnzipper\\\\main.py'>"
                        ]
                    },
                    "execution_count": 2,
                    "metadata": {},
                    "output_type": "execute_result"
                }
            ],
            "source": [
                "# import the reload module \n",
                "from importlib import reload\n",
                "# reload the module\n",
                "reload(uz)"
            ]
        },
        {
            "cell_type": "code",
            "execution_count": 3,
            "metadata": {},
            "outputs": [
                {
                    "data": {
                        "text/plain": [
                            "{'log_to_file': False,\n",
                            " 'log_file_name': 'unzipper_log.txt',\n",
                            " 'zip_excutible_path': 'C:\\\\Program Files\\\\7-Zip\\\\7z.exe',\n",
                            " 'autodelete': False,\n",
                            " 'autodeleteexisting': False,\n",
                            " 'automoveup': False,\n",
                            " 'unzipsubfolder': False,\n",
                            " 'log_level': 3,\n",
                            " 'pass_in_file_seperator': '_'}"
                        ]
                    },
                    "execution_count": 3,
                    "metadata": {},
                    "output_type": "execute_result"
                }
            ],
            "source": [
                "uz.settings\n",
                "uz.read_settings()\n",
                "uz.settings"
            ]
        },
        {
            "cell_type": "code",
            "execution_count": null,
            "metadata": {},
            "outputs": [],
            "source": []
        },
        {
            "cell_type": "code",
            "execution_count": 4,
            "metadata": {},
            "outputs": [
                {
                    "name": "stdout",
                    "output_type": "stream",
                    "text": [
                        "Settings file is valid\n",
                        "Settings:\n",
                        "\tlog_to_file : False\n",
                        "\tlog_file_name : unzipper_log.txt\n",
                        "\tzip_excutible_path : C:\\Program Files\\7-Zip\\7z.exe\n",
                        "\tautodelete : False\n",
                        "\tautodeleteexisting : False\n",
                        "\tautomoveup : False\n",
                        "\tunzipsubfolder : False\n",
                        "\tlog_level : 3\n",
                        "\tpass_in_file_seperator : _\n",
                        "2023-04-10 22:04:36 ----- passwords.txt not found\n",
                        "2023-04-10 22:04:36 --- Found 1 passwords in local passwords.txt\n",
                        "2023-04-10 22:04:36 ---- Found 12 passwords in total\n",
                        "Total files: 0, total size: 0.00 MB\n",
                        "Unzipping is taking time, please wait...\n",
                        "2023-04-10 22:04:41 --- Correct password for ./test/asdfa阿瑟尔_onioncake.rar is onioncake (contained in file name), unzipped to ./test/asdfa阿瑟尔_onioncake.rarlv0\n",
                        "2023-04-10 22:04:41 --- Archive ./test/asdfa阿瑟尔_onioncake.rar has been unzipped to ./test/asdfa阿瑟尔_onioncake.rarlv0, going to next level\n",
                        "Unzipping is taking time, please wait...\n",
                        "2023-04-10 22:04:47 --- Correct password for ./test/asdfa阿瑟尔_onioncake.rarlv0\\尼夫海姆的猎人：阿瑟尔的烙印！官方中文.rar is onioncake, unzipped to ./test/asdfa阿瑟尔_onioncake.rarlv0\\尼夫海姆的猎人：阿瑟尔的烙印！官方中文.rarlv1\n",
                        "2023-04-10 22:04:47 --- Files unzipped to ./test/asdfa阿瑟尔_onioncake.rarlv0\\尼夫海姆的猎人：阿瑟尔的烙印！官方中文.rarlv1 is a program, will not go to next level\n"
                    ]
                }
            ],
            "source": [
                "# target folder\n",
                "target_folder = \"U:/Toys/AV/China/桜井宁宁/to_unzip\"\n",
                "target_file = \"./test/asdfa阿瑟尔_onioncake.rar\"\n",
                "#uz.main(target=target_folder)\n",
                "uz.main(target=target_file)\n"
            ]
        }
    ],
    "metadata": {
        "kernelspec": {
            "display_name": "Python 3.9.7 ('base')",
            "language": "python",
            "name": "python3"
        },
        "language_info": {
            "codemirror_mode": {
                "name": "ipython",
                "version": 3
            },
            "file_extension": ".py",
            "mimetype": "text/x-python",
            "name": "python",
            "nbconvert_exporter": "python",
            "pygments_lexer": "ipython3",
            "version": "3.9.7"
        },
        "orig_nbformat": 4,
        "vscode": {
            "interpreter": {
                "hash": "e3621110486afd2222618b4ea1828be4e87db94289b439ca43965bce39fd4d08"
            }
        }
    },
    "nbformat": 4,
    "nbformat_minor": 2
}
