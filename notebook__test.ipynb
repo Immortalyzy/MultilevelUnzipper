{
    "cells": [
        {
            "cell_type": "code",
            "execution_count": 1,
            "metadata": {},
            "outputs": [],
            "source": [
                "import MultilevelUnzipper as uz"
            ]
        },
        {
            "cell_type": "code",
            "execution_count": 2,
            "metadata": {},
            "outputs": [
                {
                    "data": {
                        "text/plain": [
                            "<module 'MultilevelUnzipper' from 'd:\\\\Work\\\\MultilevelUnzipper\\\\MultilevelUnzipper.py'>"
                        ]
                    },
                    "execution_count": 2,
                    "metadata": {},
                    "output_type": "execute_result"
                }
            ],
            "source": [
                "# import the reload module \n",
                "from importlib import reload\n",
                "# reload the module\n",
                "reload(uz)"
            ]
        },
        {
            "cell_type": "code",
            "execution_count": 3,
            "metadata": {},
            "outputs": [
                {
                    "data": {
                        "text/plain": [
                            "{'log_to_file': False,\n",
                            " 'log_file_name': 'unzipper_log.txt',\n",
                            " 'zip_excutible_path': 'C:\\\\Program Files\\\\7-Zip\\\\7z.exe',\n",
                            " 'autodelete': False,\n",
                            " 'autodeleteexisting': False,\n",
                            " 'automoveup': False,\n",
                            " 'unzipsubfolder': False,\n",
                            " 'log_level': 3,\n",
                            " 'pass_in_file_seperator': '_'}"
                        ]
                    },
                    "execution_count": 3,
                    "metadata": {},
                    "output_type": "execute_result"
                }
            ],
            "source": [
                "uz.settings\n",
                "uz.read_settings()\n",
                "uz.settings"
            ]
        },
        {
            "cell_type": "code",
            "execution_count": null,
            "metadata": {},
            "outputs": [],
            "source": []
        },
        {
            "cell_type": "code",
            "execution_count": 4,
            "metadata": {},
            "outputs": [
                {
                    "name": "stdout",
                    "output_type": "stream",
                    "text": [
                        "Settings file is valid\n",
                        "Settings:\n",
                        "\tlog_to_file : False\n",
                        "\tlog_file_name : unzipper_log.txt\n",
                        "\tzip_excutible_path : C:\\Program Files\\7-Zip\\7z.exe\n",
                        "\tautodelete : False\n",
                        "\tautodeleteexisting : False\n",
                        "\tautomoveup : False\n",
                        "\tunzipsubfolder : False\n",
                        "\tlog_level : 3\n",
                        "\tpass_in_file_seperator : _\n",
                        "2024-02-04 18:15:05 ----- passwords.txt not found\n",
                        "2024-02-04 18:15:05 --- Found 1 passwords in local passwords.txt\n",
                        "2024-02-04 18:15:05 ---- Found 23 passwords in total\n",
                        "Total files: 0, total size: 0.00 MB\n",
                        "Unzipping is taking time (password is 83079), please wait...\n",
                        "2024-02-04 18:15:13 --- Correct password for ./test/test1_test2_83079 is 83079 (contained in file name), unzipped to ./test/test1_test2_83079lv0\n",
                        "2024-02-04 18:15:13 --- Files unzipped to ./test/test1_test2_83079lv0 is a program, will not go to next level\n"
                    ]
                }
            ],
            "source": [
                "# target folder\n",
                "target= \"./test/test1_test2_83079\"\n",
                "uz.main(target=target)\n"
            ]
        },
        {
            "cell_type": "code",
            "execution_count": 5,
            "metadata": {},
            "outputs": [
                {
                    "name": "stdout",
                    "output_type": "stream",
                    "text": [
                        "archive.zip does not match\n",
                        "archive.rar does not match\n",
                        "archive.part1.rar does not match\n",
                        "archive.part2.rar matches (non-main archive part)\n",
                        "archive.r00 matches (non-main archive part)\n",
                        "archive.r01 matches (non-main archive part)\n",
                        "archive.z01 matches (non-main archive part)\n",
                        "archive.z02 matches (non-main archive part)\n",
                        "document.pdf does not match\n",
                        "data.part1.zip does not match\n"
                    ]
                }
            ],
            "source": [
                "import re\n",
                "\n",
                "# Updated regular expression to exclude .part1.rar but match other non-main archive parts\n",
                "regex = r'\\.(?:part[2-9]\\d*\\.rar|r\\d+|z\\d+)$'\n",
                "\n",
                "# Example tests\n",
                "test_files = [\n",
                "    \"archive.zip\",        # Main ZIP file (should not match)\n",
                "    \"archive.rar\",        # Main RAR file (should not match)\n",
                "    \"archive.part1.rar\",  # Main part of a multi-part RAR archive (should not match)\n",
                "    \"archive.part2.rar\",  # Part of a multi-part RAR archive (should match)\n",
                "    \"archive.r00\",        # First part of a multi-part RAR archive following another pattern (should match)\n",
                "    \"archive.r01\",        # Subsequent part of a multi-part RAR archive (should match)\n",
                "    \"archive.z01\",        # Part of a multi-part ZIP archive (should match)\n",
                "    \"archive.z02\",        # Part of a multi-part ZIP archive (should match)\n",
                "    \"document.pdf\",       # A regular file (should not match)\n",
                "    \"data.part1.zip\"      # Non-standard naming (should not match)\n",
                "]\n",
                "\n",
                "for file_name in test_files:\n",
                "    if re.search(regex, file_name):\n",
                "        print(f\"{file_name} matches (non-main archive part)\")\n",
                "    else:\n",
                "        print(f\"{file_name} does not match\")\n"
            ]
        },
        {
            "cell_type": "code",
            "execution_count": 6,
            "metadata": {},
            "outputs": [
                {
                    "data": {
                        "text/plain": [
                            "[['data_backup_2023',\n",
                            "  'data_backup_2023.doc',\n",
                            "  'backup_2023',\n",
                            "  'backup_2023.doc',\n",
                            "  '2023',\n",
                            "  '2023.doc'],\n",
                            " ['v1', 'final_review', 'review'],\n",
                            " ['alpha_v2', 'v2', 'deployment'],\n",
                            " ['2022', 'private']]"
                        ]
                    },
                    "execution_count": 6,
                    "metadata": {},
                    "output_type": "execute_result"
                }
            ],
            "source": [
                "filename_examples = [\n",
                "    \"user_data_backup_2023.doc\",\n",
                "    \"report_v1.2_final_review\",\n",
                "    \"project_alpha_v2.4.1_deployment\",\n",
                "    \"archive_2022.10.05_private\"\n",
                "]\n",
                "def extract_possible_passwords(filename_list):\n",
                "    all_possible_passwords = []\n",
                "    \n",
                "    for filename in filename_list:\n",
                "        possible_passwords = []\n",
                "        parts = filename.split(\"_\")\n",
                "        \n",
                "        for i in range(1, len(parts)):\n",
                "            # Build the potential password starting from each \"_\"\n",
                "            pass_candidate = \"_\".join(parts[i:])\n",
                "            \n",
                "            # Check if there's a \".\" in the candidate\n",
                "            if \".\" in pass_candidate:\n",
                "                # Consider both with and without the extension as potential passwords\n",
                "                without_extension = pass_candidate.split(\".\", 1)[0]\n",
                "                possible_passwords.append(without_extension)  # Without considering \".\" as part of the password\n",
                "                # Check if \".\" should be considered part of the password\n",
                "                if pass_candidate.rfind(\".\") > pass_candidate.rfind(\"_\"):\n",
                "                    possible_passwords.append(pass_candidate)  # Considering \".\" as part of the password\n",
                "            else:\n",
                "                # No \".\" found, so the entire remainder is the password\n",
                "                possible_passwords.append(pass_candidate)\n",
                "        \n",
                "        all_possible_passwords.append(possible_passwords)\n",
                "    \n",
                "    return all_possible_passwords\n",
                "\n",
                "# Re-test with the provided list\n",
                "extract_possible_passwords(filename_examples)\n"
            ]
        }
    ],
    "metadata": {
        "kernelspec": {
            "display_name": "Python 3.9.7 ('base')",
            "language": "python",
            "name": "python3"
        },
        "language_info": {
            "codemirror_mode": {
                "name": "ipython",
                "version": 3
            },
            "file_extension": ".py",
            "mimetype": "text/x-python",
            "name": "python",
            "nbconvert_exporter": "python",
            "pygments_lexer": "ipython3",
            "version": "3.9.18"
        },
        "orig_nbformat": 4,
        "vscode": {
            "interpreter": {
                "hash": "e3621110486afd2222618b4ea1828be4e87db94289b439ca43965bce39fd4d08"
            }
        }
    },
    "nbformat": 4,
    "nbformat_minor": 2
}
