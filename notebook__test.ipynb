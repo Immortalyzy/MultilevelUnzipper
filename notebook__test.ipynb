{
 "cells": [
  {
   "cell_type": "code",
   "execution_count": 5,
   "metadata": {},
   "outputs": [],
   "source": [
    "import main as uz"
   ]
  },
  {
   "cell_type": "code",
   "execution_count": 6,
   "metadata": {},
   "outputs": [
    {
     "data": {
      "text/plain": [
       "<module 'main' from 'c:\\\\Users\\\\MrVergil\\\\Desktop\\\\Work\\\\MultilevelUnzipper\\\\main.py'>"
      ]
     },
     "execution_count": 6,
     "metadata": {},
     "output_type": "execute_result"
    }
   ],
   "source": [
    "# import the reload module \n",
    "from importlib import reload\n",
    "# reload the module\n",
    "reload(uz)"
   ]
  },
  {
   "cell_type": "code",
   "execution_count": 7,
   "metadata": {},
   "outputs": [
    {
     "data": {
      "text/plain": [
       "{'write_to_file': False,\n",
       " 'log_file_name': 'unzipper_log.txt',\n",
       " 'zip_excutible_path': 'C:\\\\Program Files\\\\7-Zip\\\\7z.exe',\n",
       " 'autodelete': False,\n",
       " 'autodeleteexisting': True,\n",
       " 'automoveup': True,\n",
       " 'unzipsubfolder': True,\n",
       " 'log_level': 4}"
      ]
     },
     "execution_count": 7,
     "metadata": {},
     "output_type": "execute_result"
    }
   ],
   "source": [
    "uz.settings\n",
    "uz.read_settings()\n",
    "uz.settings"
   ]
  },
  {
   "cell_type": "code",
   "execution_count": null,
   "metadata": {},
   "outputs": [],
   "source": []
  },
  {
   "cell_type": "code",
   "execution_count": 8,
   "metadata": {},
   "outputs": [
    {
     "name": "stdout",
     "output_type": "stream",
     "text": [
      "2023-03-09 22:15:44 ----- passwords.txt not found\n",
      "2023-03-09 22:15:44 ---- Found 12 passwords in total\n",
      "Settings file is valid\n",
      "Settings:\n",
      "\twrite_to_file : False\n",
      "\tlog_file_name : unzipper_log.txt\n",
      "\tzip_excutible_path : C:\\Program Files\\7-Zip\\7z.exe\n",
      "\tautodelete : False\n",
      "\tautodeleteexisting : True\n",
      "\tautomoveup : True\n",
      "\tunzipsubfolder : True\n",
      "\tlog_level : 4\n",
      "Total files: 117, total size: 2601.94 MB\n"
     ]
    },
    {
     "name": "stderr",
     "output_type": "stream",
     "text": [
      "0it [00:00, ?it/s]\n",
      "100%|██████████| 1/1 [00:03<00:00,  3.39s/it]\n"
     ]
    },
    {
     "name": "stdout",
     "output_type": "stream",
     "text": [
      "2023-03-09 22:15:47 ----- vv Archive 0071第2层压缩.01 has been unzipped to 0071第2层压缩.01lv0\n"
     ]
    },
    {
     "name": "stderr",
     "output_type": "stream",
     "text": [
      "100%|██████████| 1/1 [00:00<00:00,  1.84it/s]\n"
     ]
    },
    {
     "name": "stdout",
     "output_type": "stream",
     "text": [
      "2023-03-09 22:15:48 ----- -- NO.07110月会员partme_第1层压缩.rar cannot be unzipped.\n"
     ]
    },
    {
     "name": "stderr",
     "output_type": "stream",
     "text": [
      "0it [00:00, ?it/s]\n",
      "  7%|▋         | 8/107 [00:00<00:01, 78.56it/s]"
     ]
    },
    {
     "name": "stdout",
     "output_type": "stream",
     "text": [
      "2023-03-09 22:15:48 ---- File \"./test\\NO.071lv0\\NO.07110月会员partme_第1层压缩.rarlv1\\NO.07110月会员partme\\acgbuluo (1).jpg\" is not an archive\n",
      "2023-03-09 22:15:48 ----- -- acgbuluo (1).jpg cannot be unzipped.\n",
      "2023-03-09 22:15:48 ---- File \"./test\\NO.071lv0\\NO.07110月会员partme_第1层压缩.rarlv1\\NO.07110月会员partme\\acgbuluo (10).jpg\" is not an archive\n",
      "2023-03-09 22:15:48 ----- -- acgbuluo (10).jpg cannot be unzipped.\n",
      "2023-03-09 22:15:48 ---- File \"./test\\NO.071lv0\\NO.07110月会员partme_第1层压缩.rarlv1\\NO.07110月会员partme\\acgbuluo (100).JPG\" is not an archive\n",
      "2023-03-09 22:15:48 ----- -- acgbuluo (100).JPG cannot be unzipped.\n",
      "2023-03-09 22:15:48 ---- File \"./test\\NO.071lv0\\NO.07110月会员partme_第1层压缩.rarlv1\\NO.07110月会员partme\\acgbuluo (101).JPG\" is not an archive\n",
      "2023-03-09 22:15:48 ----- -- acgbuluo (101).JPG cannot be unzipped.\n",
      "2023-03-09 22:15:48 ---- File \"./test\\NO.071lv0\\NO.07110月会员partme_第1层压缩.rarlv1\\NO.07110月会员partme\\acgbuluo (102).JPG\" is not an archive\n",
      "2023-03-09 22:15:48 ----- -- acgbuluo (102).JPG cannot be unzipped.\n",
      "2023-03-09 22:15:48 ---- File \"./test\\NO.071lv0\\NO.07110月会员partme_第1层压缩.rarlv1\\NO.07110月会员partme\\acgbuluo (103).JPG\" is not an archive\n",
      "2023-03-09 22:15:48 ----- -- acgbuluo (103).JPG cannot be unzipped.\n",
      "2023-03-09 22:15:48 ---- File \"./test\\NO.071lv0\\NO.07110月会员partme_第1层压缩.rarlv1\\NO.07110月会员partme\\acgbuluo (104).JPG\" is not an archive\n",
      "2023-03-09 22:15:48 ----- -- acgbuluo (104).JPG cannot be unzipped.\n",
      "2023-03-09 22:15:48 ---- File \"./test\\NO.071lv0\\NO.07110月会员partme_第1层压缩.rarlv1\\NO.07110月会员partme\\acgbuluo (11).jpg\" is not an archive\n",
      "2023-03-09 22:15:48 ----- -- acgbuluo (11).jpg cannot be unzipped.\n",
      "2023-03-09 22:15:48 ---- File \"./test\\NO.071lv0\\NO.07110月会员partme_第1层压缩.rarlv1\\NO.07110月会员partme\\acgbuluo (12).jpg\" is not an archive\n",
      "2023-03-09 22:15:48 ----- -- acgbuluo (12).jpg cannot be unzipped.\n",
      "2023-03-09 22:15:48 ---- File \"./test\\NO.071lv0\\NO.07110月会员partme_第1层压缩.rarlv1\\NO.07110月会员partme\\acgbuluo (13).jpg\" is not an archive\n",
      "2023-03-09 22:15:48 ----- -- acgbuluo (13).jpg cannot be unzipped.\n",
      "2023-03-09 22:15:48 ---- File \"./test\\NO.071lv0\\NO.07110月会员partme_第1层压缩.rarlv1\\NO.07110月会员partme\\acgbuluo (14).jpg\" is not an archive\n",
      "2023-03-09 22:15:48 ----- -- acgbuluo (14).jpg cannot be unzipped.\n",
      "2023-03-09 22:15:48 ---- File \"./test\\NO.071lv0\\NO.07110月会员partme_第1层压缩.rarlv1\\NO.07110月会员partme\\acgbuluo (15).jpg\" is not an archive\n",
      "2023-03-09 22:15:48 ----- -- acgbuluo (15).jpg cannot be unzipped.\n",
      "2023-03-09 22:15:48 ---- File \"./test\\NO.071lv0\\NO.07110月会员partme_第1层压缩.rarlv1\\NO.07110月会员partme\\acgbuluo (16).jpg\" is not an archive\n",
      "2023-03-09 22:15:48 ----- -- acgbuluo (16).jpg cannot be unzipped.\n",
      "2023-03-09 22:15:48 ---- File \"./test\\NO.071lv0\\NO.07110月会员partme_第1层压缩.rarlv1\\NO.07110月会员partme\\acgbuluo (17).jpg\" is not an archive\n",
      "2023-03-09 22:15:48 ----- -- acgbuluo (17).jpg cannot be unzipped.\n",
      "2023-03-09 22:15:48 ---- File \"./test\\NO.071lv0\\NO.07110月会员partme_第1层压缩.rarlv1\\NO.07110月会员partme\\acgbuluo (18).jpg\" is not an archive\n",
      "2023-03-09 22:15:48 ----- -- acgbuluo (18).jpg cannot be unzipped.\n",
      "2023-03-09 22:15:48 ---- File \"./test\\NO.071lv0\\NO.07110月会员partme_第1层压缩.rarlv1\\NO.07110月会员partme\\acgbuluo (19).JPG\" is not an archive\n"
     ]
    },
    {
     "name": "stderr",
     "output_type": "stream",
     "text": [
      " 24%|██▍       | 26/107 [00:00<00:00, 81.16it/s]"
     ]
    },
    {
     "name": "stdout",
     "output_type": "stream",
     "text": [
      "2023-03-09 22:15:48 ----- -- acgbuluo (19).JPG cannot be unzipped.\n",
      "2023-03-09 22:15:48 ---- File \"./test\\NO.071lv0\\NO.07110月会员partme_第1层压缩.rarlv1\\NO.07110月会员partme\\acgbuluo (2).jpg\" is not an archive\n",
      "2023-03-09 22:15:48 ----- -- acgbuluo (2).jpg cannot be unzipped.\n",
      "2023-03-09 22:15:48 ---- File \"./test\\NO.071lv0\\NO.07110月会员partme_第1层压缩.rarlv1\\NO.07110月会员partme\\acgbuluo (20).JPG\" is not an archive\n",
      "2023-03-09 22:15:48 ----- -- acgbuluo (20).JPG cannot be unzipped.\n",
      "2023-03-09 22:15:48 ---- File \"./test\\NO.071lv0\\NO.07110月会员partme_第1层压缩.rarlv1\\NO.07110月会员partme\\acgbuluo (21).JPG\" is not an archive\n",
      "2023-03-09 22:15:48 ----- -- acgbuluo (21).JPG cannot be unzipped.\n",
      "2023-03-09 22:15:48 ---- File \"./test\\NO.071lv0\\NO.07110月会员partme_第1层压缩.rarlv1\\NO.07110月会员partme\\acgbuluo (22).JPG\" is not an archive\n",
      "2023-03-09 22:15:48 ----- -- acgbuluo (22).JPG cannot be unzipped.\n",
      "2023-03-09 22:15:48 ---- File \"./test\\NO.071lv0\\NO.07110月会员partme_第1层压缩.rarlv1\\NO.07110月会员partme\\acgbuluo (23).JPG\" is not an archive\n",
      "2023-03-09 22:15:48 ----- -- acgbuluo (23).JPG cannot be unzipped.\n",
      "2023-03-09 22:15:48 ---- File \"./test\\NO.071lv0\\NO.07110月会员partme_第1层压缩.rarlv1\\NO.07110月会员partme\\acgbuluo (24).JPG\" is not an archive\n",
      "2023-03-09 22:15:48 ----- -- acgbuluo (24).JPG cannot be unzipped.\n",
      "2023-03-09 22:15:48 ---- File \"./test\\NO.071lv0\\NO.07110月会员partme_第1层压缩.rarlv1\\NO.07110月会员partme\\acgbuluo (25).JPG\" is not an archive\n",
      "2023-03-09 22:15:48 ----- -- acgbuluo (25).JPG cannot be unzipped.\n",
      "2023-03-09 22:15:48 ---- File \"./test\\NO.071lv0\\NO.07110月会员partme_第1层压缩.rarlv1\\NO.07110月会员partme\\acgbuluo (26).JPG\" is not an archive\n",
      "2023-03-09 22:15:48 ----- -- acgbuluo (26).JPG cannot be unzipped.\n",
      "2023-03-09 22:15:48 ---- File \"./test\\NO.071lv0\\NO.07110月会员partme_第1层压缩.rarlv1\\NO.07110月会员partme\\acgbuluo (27).JPG\" is not an archive\n",
      "2023-03-09 22:15:48 ----- -- acgbuluo (27).JPG cannot be unzipped.\n",
      "2023-03-09 22:15:48 ---- File \"./test\\NO.071lv0\\NO.07110月会员partme_第1层压缩.rarlv1\\NO.07110月会员partme\\acgbuluo (28).JPG\" is not an archive\n",
      "2023-03-09 22:15:48 ----- -- acgbuluo (28).JPG cannot be unzipped.\n",
      "2023-03-09 22:15:48 ---- File \"./test\\NO.071lv0\\NO.07110月会员partme_第1层压缩.rarlv1\\NO.07110月会员partme\\acgbuluo (29).JPG\" is not an archive\n",
      "2023-03-09 22:15:48 ----- -- acgbuluo (29).JPG cannot be unzipped.\n",
      "2023-03-09 22:15:48 ---- File \"./test\\NO.071lv0\\NO.07110月会员partme_第1层压缩.rarlv1\\NO.07110月会员partme\\acgbuluo (3).jpg\" is not an archive\n",
      "2023-03-09 22:15:48 ----- -- acgbuluo (3).jpg cannot be unzipped.\n",
      "2023-03-09 22:15:48 ---- File \"./test\\NO.071lv0\\NO.07110月会员partme_第1层压缩.rarlv1\\NO.07110月会员partme\\acgbuluo (30).JPG\" is not an archive\n",
      "2023-03-09 22:15:48 ----- -- acgbuluo (30).JPG cannot be unzipped.\n",
      "2023-03-09 22:15:48 ---- File \"./test\\NO.071lv0\\NO.07110月会员partme_第1层压缩.rarlv1\\NO.07110月会员partme\\acgbuluo (31).JPG\" is not an archive\n",
      "2023-03-09 22:15:48 ----- -- acgbuluo (31).JPG cannot be unzipped.\n",
      "2023-03-09 22:15:48 ---- File \"./test\\NO.071lv0\\NO.07110月会员partme_第1层压缩.rarlv1\\NO.07110月会员partme\\acgbuluo (32).JPG\" is not an archive\n"
     ]
    },
    {
     "name": "stderr",
     "output_type": "stream",
     "text": [
      " 41%|████      | 44/107 [00:00<00:00, 80.65it/s]"
     ]
    },
    {
     "name": "stdout",
     "output_type": "stream",
     "text": [
      "2023-03-09 22:15:48 ----- -- acgbuluo (32).JPG cannot be unzipped.\n",
      "2023-03-09 22:15:48 ---- File \"./test\\NO.071lv0\\NO.07110月会员partme_第1层压缩.rarlv1\\NO.07110月会员partme\\acgbuluo (33).JPG\" is not an archive\n",
      "2023-03-09 22:15:48 ----- -- acgbuluo (33).JPG cannot be unzipped.\n",
      "2023-03-09 22:15:48 ---- File \"./test\\NO.071lv0\\NO.07110月会员partme_第1层压缩.rarlv1\\NO.07110月会员partme\\acgbuluo (34).JPG\" is not an archive\n",
      "2023-03-09 22:15:48 ----- -- acgbuluo (34).JPG cannot be unzipped.\n",
      "2023-03-09 22:15:48 ---- File \"./test\\NO.071lv0\\NO.07110月会员partme_第1层压缩.rarlv1\\NO.07110月会员partme\\acgbuluo (35).JPG\" is not an archive\n",
      "2023-03-09 22:15:48 ----- -- acgbuluo (35).JPG cannot be unzipped.\n",
      "2023-03-09 22:15:48 ---- File \"./test\\NO.071lv0\\NO.07110月会员partme_第1层压缩.rarlv1\\NO.07110月会员partme\\acgbuluo (36).JPG\" is not an archive\n",
      "2023-03-09 22:15:48 ----- -- acgbuluo (36).JPG cannot be unzipped.\n",
      "2023-03-09 22:15:48 ---- File \"./test\\NO.071lv0\\NO.07110月会员partme_第1层压缩.rarlv1\\NO.07110月会员partme\\acgbuluo (37).JPG\" is not an archive\n",
      "2023-03-09 22:15:48 ----- -- acgbuluo (37).JPG cannot be unzipped.\n",
      "2023-03-09 22:15:48 ---- File \"./test\\NO.071lv0\\NO.07110月会员partme_第1层压缩.rarlv1\\NO.07110月会员partme\\acgbuluo (38).JPG\" is not an archive\n",
      "2023-03-09 22:15:48 ----- -- acgbuluo (38).JPG cannot be unzipped.\n",
      "2023-03-09 22:15:48 ---- File \"./test\\NO.071lv0\\NO.07110月会员partme_第1层压缩.rarlv1\\NO.07110月会员partme\\acgbuluo (39).JPG\" is not an archive\n",
      "2023-03-09 22:15:48 ----- -- acgbuluo (39).JPG cannot be unzipped.\n",
      "2023-03-09 22:15:48 ---- File \"./test\\NO.071lv0\\NO.07110月会员partme_第1层压缩.rarlv1\\NO.07110月会员partme\\acgbuluo (4).jpg\" is not an archive\n",
      "2023-03-09 22:15:48 ----- -- acgbuluo (4).jpg cannot be unzipped.\n",
      "2023-03-09 22:15:48 ---- File \"./test\\NO.071lv0\\NO.07110月会员partme_第1层压缩.rarlv1\\NO.07110月会员partme\\acgbuluo (40).JPG\" is not an archive\n",
      "2023-03-09 22:15:48 ----- -- acgbuluo (40).JPG cannot be unzipped.\n",
      "2023-03-09 22:15:48 ---- File \"./test\\NO.071lv0\\NO.07110月会员partme_第1层压缩.rarlv1\\NO.07110月会员partme\\acgbuluo (41).JPG\" is not an archive\n",
      "2023-03-09 22:15:48 ----- -- acgbuluo (41).JPG cannot be unzipped.\n",
      "2023-03-09 22:15:48 ---- File \"./test\\NO.071lv0\\NO.07110月会员partme_第1层压缩.rarlv1\\NO.07110月会员partme\\acgbuluo (42).JPG\" is not an archive\n",
      "2023-03-09 22:15:48 ----- -- acgbuluo (42).JPG cannot be unzipped.\n",
      "2023-03-09 22:15:48 ---- File \"./test\\NO.071lv0\\NO.07110月会员partme_第1层压缩.rarlv1\\NO.07110月会员partme\\acgbuluo (43).JPG\" is not an archive\n",
      "2023-03-09 22:15:48 ----- -- acgbuluo (43).JPG cannot be unzipped.\n",
      "2023-03-09 22:15:48 ---- File \"./test\\NO.071lv0\\NO.07110月会员partme_第1层压缩.rarlv1\\NO.07110月会员partme\\acgbuluo (44).JPG\" is not an archive\n",
      "2023-03-09 22:15:48 ----- -- acgbuluo (44).JPG cannot be unzipped.\n",
      "2023-03-09 22:15:48 ---- File \"./test\\NO.071lv0\\NO.07110月会员partme_第1层压缩.rarlv1\\NO.07110月会员partme\\acgbuluo (45).JPG\" is not an archive\n",
      "2023-03-09 22:15:48 ----- -- acgbuluo (45).JPG cannot be unzipped.\n",
      "2023-03-09 22:15:48 ---- File \"./test\\NO.071lv0\\NO.07110月会员partme_第1层压缩.rarlv1\\NO.07110月会员partme\\acgbuluo (46).JPG\" is not an archive\n"
     ]
    },
    {
     "name": "stderr",
     "output_type": "stream",
     "text": [
      " 50%|████▉     | 53/107 [00:00<00:00, 79.16it/s]"
     ]
    },
    {
     "name": "stdout",
     "output_type": "stream",
     "text": [
      "2023-03-09 22:15:48 ----- -- acgbuluo (46).JPG cannot be unzipped.\n",
      "2023-03-09 22:15:48 ---- File \"./test\\NO.071lv0\\NO.07110月会员partme_第1层压缩.rarlv1\\NO.07110月会员partme\\acgbuluo (47).JPG\" is not an archive\n",
      "2023-03-09 22:15:48 ----- -- acgbuluo (47).JPG cannot be unzipped.\n",
      "2023-03-09 22:15:49 ---- File \"./test\\NO.071lv0\\NO.07110月会员partme_第1层压缩.rarlv1\\NO.07110月会员partme\\acgbuluo (48).JPG\" is not an archive\n",
      "2023-03-09 22:15:49 ----- -- acgbuluo (48).JPG cannot be unzipped.\n",
      "2023-03-09 22:15:49 ---- File \"./test\\NO.071lv0\\NO.07110月会员partme_第1层压缩.rarlv1\\NO.07110月会员partme\\acgbuluo (49).JPG\" is not an archive\n",
      "2023-03-09 22:15:49 ----- -- acgbuluo (49).JPG cannot be unzipped.\n",
      "2023-03-09 22:15:49 ---- File \"./test\\NO.071lv0\\NO.07110月会员partme_第1层压缩.rarlv1\\NO.07110月会员partme\\acgbuluo (5).jpg\" is not an archive\n",
      "2023-03-09 22:15:49 ----- -- acgbuluo (5).jpg cannot be unzipped.\n",
      "2023-03-09 22:15:49 ---- File \"./test\\NO.071lv0\\NO.07110月会员partme_第1层压缩.rarlv1\\NO.07110月会员partme\\acgbuluo (50).JPG\" is not an archive\n",
      "2023-03-09 22:15:49 ----- -- acgbuluo (50).JPG cannot be unzipped.\n",
      "2023-03-09 22:15:49 ---- File \"./test\\NO.071lv0\\NO.07110月会员partme_第1层压缩.rarlv1\\NO.07110月会员partme\\acgbuluo (51).JPG\" is not an archive\n",
      "2023-03-09 22:15:49 ----- -- acgbuluo (51).JPG cannot be unzipped.\n",
      "2023-03-09 22:15:49 ---- File \"./test\\NO.071lv0\\NO.07110月会员partme_第1层压缩.rarlv1\\NO.07110月会员partme\\acgbuluo (52).JPG\" is not an archive\n",
      "2023-03-09 22:15:49 ----- -- acgbuluo (52).JPG cannot be unzipped.\n",
      "2023-03-09 22:15:49 ---- File \"./test\\NO.071lv0\\NO.07110月会员partme_第1层压缩.rarlv1\\NO.07110月会员partme\\acgbuluo (53).JPG\" is not an archive\n",
      "2023-03-09 22:15:49 ----- -- acgbuluo (53).JPG cannot be unzipped.\n",
      "2023-03-09 22:15:49 ---- File \"./test\\NO.071lv0\\NO.07110月会员partme_第1层压缩.rarlv1\\NO.07110月会员partme\\acgbuluo (54).JPG\" is not an archive\n",
      "2023-03-09 22:15:49 ----- -- acgbuluo (54).JPG cannot be unzipped.\n",
      "2023-03-09 22:15:49 ---- File \"./test\\NO.071lv0\\NO.07110月会员partme_第1层压缩.rarlv1\\NO.07110月会员partme\\acgbuluo (55).JPG\" is not an archive\n",
      "2023-03-09 22:15:49 ----- -- acgbuluo (55).JPG cannot be unzipped.\n",
      "2023-03-09 22:15:49 ---- File \"./test\\NO.071lv0\\NO.07110月会员partme_第1层压缩.rarlv1\\NO.07110月会员partme\\acgbuluo (56).JPG\" is not an archive\n",
      "2023-03-09 22:15:49 ----- -- acgbuluo (56).JPG cannot be unzipped.\n",
      "2023-03-09 22:15:49 ---- File \"./test\\NO.071lv0\\NO.07110月会员partme_第1层压缩.rarlv1\\NO.07110月会员partme\\acgbuluo (57).JPG\" is not an archive\n",
      "2023-03-09 22:15:49 ----- -- acgbuluo (57).JPG cannot be unzipped.\n",
      "2023-03-09 22:15:49 ---- File \"./test\\NO.071lv0\\NO.07110月会员partme_第1层压缩.rarlv1\\NO.07110月会员partme\\acgbuluo (58).JPG\" is not an archive\n",
      "2023-03-09 22:15:49 ----- -- acgbuluo (58).JPG cannot be unzipped.\n",
      "2023-03-09 22:15:49 ---- File \"./test\\NO.071lv0\\NO.07110月会员partme_第1层压缩.rarlv1\\NO.07110月会员partme\\acgbuluo (59).JPG\" is not an archive\n"
     ]
    },
    {
     "name": "stderr",
     "output_type": "stream",
     "text": [
      " 64%|██████▍   | 69/107 [00:00<00:00, 71.34it/s]"
     ]
    },
    {
     "name": "stdout",
     "output_type": "stream",
     "text": [
      "2023-03-09 22:15:49 ----- -- acgbuluo (59).JPG cannot be unzipped.\n",
      "2023-03-09 22:15:49 ---- File \"./test\\NO.071lv0\\NO.07110月会员partme_第1层压缩.rarlv1\\NO.07110月会员partme\\acgbuluo (6).jpg\" is not an archive\n",
      "2023-03-09 22:15:49 ----- -- acgbuluo (6).jpg cannot be unzipped.\n",
      "2023-03-09 22:15:49 ---- File \"./test\\NO.071lv0\\NO.07110月会员partme_第1层压缩.rarlv1\\NO.07110月会员partme\\acgbuluo (60).JPG\" is not an archive\n",
      "2023-03-09 22:15:49 ----- -- acgbuluo (60).JPG cannot be unzipped.\n",
      "2023-03-09 22:15:49 ---- File \"./test\\NO.071lv0\\NO.07110月会员partme_第1层压缩.rarlv1\\NO.07110月会员partme\\acgbuluo (61).JPG\" is not an archive\n",
      "2023-03-09 22:15:49 ----- -- acgbuluo (61).JPG cannot be unzipped.\n",
      "2023-03-09 22:15:49 ---- File \"./test\\NO.071lv0\\NO.07110月会员partme_第1层压缩.rarlv1\\NO.07110月会员partme\\acgbuluo (62).JPG\" is not an archive\n",
      "2023-03-09 22:15:49 ----- -- acgbuluo (62).JPG cannot be unzipped.\n",
      "2023-03-09 22:15:49 ---- File \"./test\\NO.071lv0\\NO.07110月会员partme_第1层压缩.rarlv1\\NO.07110月会员partme\\acgbuluo (63).JPG\" is not an archive\n",
      "2023-03-09 22:15:49 ----- -- acgbuluo (63).JPG cannot be unzipped.\n",
      "2023-03-09 22:15:49 ---- File \"./test\\NO.071lv0\\NO.07110月会员partme_第1层压缩.rarlv1\\NO.07110月会员partme\\acgbuluo (64).JPG\" is not an archive\n",
      "2023-03-09 22:15:49 ----- -- acgbuluo (64).JPG cannot be unzipped.\n",
      "2023-03-09 22:15:49 ---- File \"./test\\NO.071lv0\\NO.07110月会员partme_第1层压缩.rarlv1\\NO.07110月会员partme\\acgbuluo (65).JPG\" is not an archive\n",
      "2023-03-09 22:15:49 ----- -- acgbuluo (65).JPG cannot be unzipped.\n",
      "2023-03-09 22:15:49 ---- File \"./test\\NO.071lv0\\NO.07110月会员partme_第1层压缩.rarlv1\\NO.07110月会员partme\\acgbuluo (66).jpg\" is not an archive\n",
      "2023-03-09 22:15:49 ----- -- acgbuluo (66).jpg cannot be unzipped.\n",
      "2023-03-09 22:15:49 ---- File \"./test\\NO.071lv0\\NO.07110月会员partme_第1层压缩.rarlv1\\NO.07110月会员partme\\acgbuluo (67).jpg\" is not an archive\n",
      "2023-03-09 22:15:49 ----- -- acgbuluo (67).jpg cannot be unzipped.\n",
      "2023-03-09 22:15:49 ---- File \"./test\\NO.071lv0\\NO.07110月会员partme_第1层压缩.rarlv1\\NO.07110月会员partme\\acgbuluo (68).jpg\" is not an archive\n",
      "2023-03-09 22:15:49 ----- -- acgbuluo (68).jpg cannot be unzipped.\n",
      "2023-03-09 22:15:49 ---- File \"./test\\NO.071lv0\\NO.07110月会员partme_第1层压缩.rarlv1\\NO.07110月会员partme\\acgbuluo (69).jpg\" is not an archive\n",
      "2023-03-09 22:15:49 ----- -- acgbuluo (69).jpg cannot be unzipped.\n",
      "2023-03-09 22:15:49 ---- File \"./test\\NO.071lv0\\NO.07110月会员partme_第1层压缩.rarlv1\\NO.07110月会员partme\\acgbuluo (7).jpg\" is not an archive\n"
     ]
    },
    {
     "name": "stderr",
     "output_type": "stream",
     "text": [
      " 72%|███████▏  | 77/107 [00:01<00:00, 70.07it/s]"
     ]
    },
    {
     "name": "stdout",
     "output_type": "stream",
     "text": [
      "2023-03-09 22:15:49 ----- -- acgbuluo (7).jpg cannot be unzipped.\n",
      "2023-03-09 22:15:49 ---- File \"./test\\NO.071lv0\\NO.07110月会员partme_第1层压缩.rarlv1\\NO.07110月会员partme\\acgbuluo (70).jpg\" is not an archive\n",
      "2023-03-09 22:15:49 ----- -- acgbuluo (70).jpg cannot be unzipped.\n",
      "2023-03-09 22:15:49 ---- File \"./test\\NO.071lv0\\NO.07110月会员partme_第1层压缩.rarlv1\\NO.07110月会员partme\\acgbuluo (71).jpg\" is not an archive\n",
      "2023-03-09 22:15:49 ----- -- acgbuluo (71).jpg cannot be unzipped.\n",
      "2023-03-09 22:15:49 ---- File \"./test\\NO.071lv0\\NO.07110月会员partme_第1层压缩.rarlv1\\NO.07110月会员partme\\acgbuluo (72).jpg\" is not an archive\n",
      "2023-03-09 22:15:49 ----- -- acgbuluo (72).jpg cannot be unzipped.\n",
      "2023-03-09 22:15:49 ---- File \"./test\\NO.071lv0\\NO.07110月会员partme_第1层压缩.rarlv1\\NO.07110月会员partme\\acgbuluo (73).jpg\" is not an archive\n",
      "2023-03-09 22:15:49 ----- -- acgbuluo (73).jpg cannot be unzipped.\n",
      "2023-03-09 22:15:49 ---- File \"./test\\NO.071lv0\\NO.07110月会员partme_第1层压缩.rarlv1\\NO.07110月会员partme\\acgbuluo (74).jpg\" is not an archive\n",
      "2023-03-09 22:15:49 ----- -- acgbuluo (74).jpg cannot be unzipped.\n",
      "2023-03-09 22:15:49 ---- File \"./test\\NO.071lv0\\NO.07110月会员partme_第1层压缩.rarlv1\\NO.07110月会员partme\\acgbuluo (75).jpg\" is not an archive\n",
      "2023-03-09 22:15:49 ----- -- acgbuluo (75).jpg cannot be unzipped.\n",
      "2023-03-09 22:15:49 ---- File \"./test\\NO.071lv0\\NO.07110月会员partme_第1层压缩.rarlv1\\NO.07110月会员partme\\acgbuluo (76).jpg\" is not an archive\n",
      "2023-03-09 22:15:49 ----- -- acgbuluo (76).jpg cannot be unzipped.\n",
      "2023-03-09 22:15:49 ---- File \"./test\\NO.071lv0\\NO.07110月会员partme_第1层压缩.rarlv1\\NO.07110月会员partme\\acgbuluo (77).jpg\" is not an archive\n",
      "2023-03-09 22:15:49 ----- -- acgbuluo (77).jpg cannot be unzipped.\n",
      "2023-03-09 22:15:49 ---- File \"./test\\NO.071lv0\\NO.07110月会员partme_第1层压缩.rarlv1\\NO.07110月会员partme\\acgbuluo (78).jpg\" is not an archive\n",
      "2023-03-09 22:15:49 ----- -- acgbuluo (78).jpg cannot be unzipped.\n",
      "2023-03-09 22:15:49 ---- File \"./test\\NO.071lv0\\NO.07110月会员partme_第1层压缩.rarlv1\\NO.07110月会员partme\\acgbuluo (79).jpg\" is not an archive\n",
      "2023-03-09 22:15:49 ----- -- acgbuluo (79).jpg cannot be unzipped.\n",
      "2023-03-09 22:15:49 ---- File \"./test\\NO.071lv0\\NO.07110月会员partme_第1层压缩.rarlv1\\NO.07110月会员partme\\acgbuluo (8).jpg\" is not an archive\n",
      "2023-03-09 22:15:49 ----- -- acgbuluo (8).jpg cannot be unzipped.\n",
      "2023-03-09 22:15:49 ---- File \"./test\\NO.071lv0\\NO.07110月会员partme_第1层压缩.rarlv1\\NO.07110月会员partme\\acgbuluo (80).jpg\" is not an archive\n",
      "2023-03-09 22:15:49 ----- -- acgbuluo (80).jpg cannot be unzipped.\n",
      "2023-03-09 22:15:49 ---- File \"./test\\NO.071lv0\\NO.07110月会员partme_第1层压缩.rarlv1\\NO.07110月会员partme\\acgbuluo (81).jpg\" is not an archive\n"
     ]
    },
    {
     "name": "stderr",
     "output_type": "stream",
     "text": [
      " 87%|████████▋ | 93/107 [00:01<00:00, 71.59it/s]"
     ]
    },
    {
     "name": "stdout",
     "output_type": "stream",
     "text": [
      "2023-03-09 22:15:49 ----- -- acgbuluo (81).jpg cannot be unzipped.\n",
      "2023-03-09 22:15:49 ---- File \"./test\\NO.071lv0\\NO.07110月会员partme_第1层压缩.rarlv1\\NO.07110月会员partme\\acgbuluo (82).jpg\" is not an archive\n",
      "2023-03-09 22:15:49 ----- -- acgbuluo (82).jpg cannot be unzipped.\n",
      "2023-03-09 22:15:49 ---- File \"./test\\NO.071lv0\\NO.07110月会员partme_第1层压缩.rarlv1\\NO.07110月会员partme\\acgbuluo (83).jpg\" is not an archive\n",
      "2023-03-09 22:15:49 ----- -- acgbuluo (83).jpg cannot be unzipped.\n",
      "2023-03-09 22:15:49 ---- File \"./test\\NO.071lv0\\NO.07110月会员partme_第1层压缩.rarlv1\\NO.07110月会员partme\\acgbuluo (84).jpg\" is not an archive\n",
      "2023-03-09 22:15:49 ----- -- acgbuluo (84).jpg cannot be unzipped.\n",
      "2023-03-09 22:15:49 ---- File \"./test\\NO.071lv0\\NO.07110月会员partme_第1层压缩.rarlv1\\NO.07110月会员partme\\acgbuluo (85).jpg\" is not an archive\n",
      "2023-03-09 22:15:49 ----- -- acgbuluo (85).jpg cannot be unzipped.\n",
      "2023-03-09 22:15:49 ---- File \"./test\\NO.071lv0\\NO.07110月会员partme_第1层压缩.rarlv1\\NO.07110月会员partme\\acgbuluo (86).jpg\" is not an archive\n",
      "2023-03-09 22:15:49 ----- -- acgbuluo (86).jpg cannot be unzipped.\n",
      "2023-03-09 22:15:49 ---- File \"./test\\NO.071lv0\\NO.07110月会员partme_第1层压缩.rarlv1\\NO.07110月会员partme\\acgbuluo (87).JPG\" is not an archive\n",
      "2023-03-09 22:15:49 ----- -- acgbuluo (87).JPG cannot be unzipped.\n",
      "2023-03-09 22:15:49 ---- File \"./test\\NO.071lv0\\NO.07110月会员partme_第1层压缩.rarlv1\\NO.07110月会员partme\\acgbuluo (88).JPG\" is not an archive\n",
      "2023-03-09 22:15:49 ----- -- acgbuluo (88).JPG cannot be unzipped.\n",
      "2023-03-09 22:15:49 ---- File \"./test\\NO.071lv0\\NO.07110月会员partme_第1层压缩.rarlv1\\NO.07110月会员partme\\acgbuluo (89).JPG\" is not an archive\n",
      "2023-03-09 22:15:49 ----- -- acgbuluo (89).JPG cannot be unzipped.\n",
      "2023-03-09 22:15:49 ---- File \"./test\\NO.071lv0\\NO.07110月会员partme_第1层压缩.rarlv1\\NO.07110月会员partme\\acgbuluo (9).jpg\" is not an archive\n",
      "2023-03-09 22:15:49 ----- -- acgbuluo (9).jpg cannot be unzipped.\n",
      "2023-03-09 22:15:49 ---- File \"./test\\NO.071lv0\\NO.07110月会员partme_第1层压缩.rarlv1\\NO.07110月会员partme\\acgbuluo (90).JPG\" is not an archive\n",
      "2023-03-09 22:15:49 ----- -- acgbuluo (90).JPG cannot be unzipped.\n",
      "2023-03-09 22:15:49 ---- File \"./test\\NO.071lv0\\NO.07110月会员partme_第1层压缩.rarlv1\\NO.07110月会员partme\\acgbuluo (91).JPG\" is not an archive\n",
      "2023-03-09 22:15:49 ----- -- acgbuluo (91).JPG cannot be unzipped.\n",
      "2023-03-09 22:15:49 ---- File \"./test\\NO.071lv0\\NO.07110月会员partme_第1层压缩.rarlv1\\NO.07110月会员partme\\acgbuluo (92).JPG\" is not an archive\n",
      "2023-03-09 22:15:49 ----- -- acgbuluo (92).JPG cannot be unzipped.\n",
      "2023-03-09 22:15:49 ---- File \"./test\\NO.071lv0\\NO.07110月会员partme_第1层压缩.rarlv1\\NO.07110月会员partme\\acgbuluo (93).JPG\" is not an archive\n",
      "2023-03-09 22:15:49 ----- -- acgbuluo (93).JPG cannot be unzipped.\n"
     ]
    },
    {
     "name": "stderr",
     "output_type": "stream",
     "text": [
      "100%|██████████| 107/107 [00:01<00:00, 72.91it/s]\n"
     ]
    },
    {
     "name": "stdout",
     "output_type": "stream",
     "text": [
      "2023-03-09 22:15:49 ---- File \"./test\\NO.071lv0\\NO.07110月会员partme_第1层压缩.rarlv1\\NO.07110月会员partme\\acgbuluo (94).JPG\" is not an archive\n",
      "2023-03-09 22:15:49 ----- -- acgbuluo (94).JPG cannot be unzipped.\n",
      "2023-03-09 22:15:49 ---- File \"./test\\NO.071lv0\\NO.07110月会员partme_第1层压缩.rarlv1\\NO.07110月会员partme\\acgbuluo (95).JPG\" is not an archive\n",
      "2023-03-09 22:15:49 ----- -- acgbuluo (95).JPG cannot be unzipped.\n",
      "2023-03-09 22:15:49 ---- File \"./test\\NO.071lv0\\NO.07110月会员partme_第1层压缩.rarlv1\\NO.07110月会员partme\\acgbuluo (96).JPG\" is not an archive\n",
      "2023-03-09 22:15:49 ----- -- acgbuluo (96).JPG cannot be unzipped.\n",
      "2023-03-09 22:15:49 ---- File \"./test\\NO.071lv0\\NO.07110月会员partme_第1层压缩.rarlv1\\NO.07110月会员partme\\acgbuluo (97).JPG\" is not an archive\n",
      "2023-03-09 22:15:49 ----- -- acgbuluo (97).JPG cannot be unzipped.\n",
      "2023-03-09 22:15:49 ---- File \"./test\\NO.071lv0\\NO.07110月会员partme_第1层压缩.rarlv1\\NO.07110月会员partme\\acgbuluo (98).JPG\" is not an archive\n",
      "2023-03-09 22:15:49 ----- -- acgbuluo (98).JPG cannot be unzipped.\n",
      "2023-03-09 22:15:49 ---- File \"./test\\NO.071lv0\\NO.07110月会员partme_第1层压缩.rarlv1\\NO.07110月会员partme\\acgbuluo (99).JPG\" is not an archive\n",
      "2023-03-09 22:15:49 ----- -- acgbuluo (99).JPG cannot be unzipped.\n",
      "2023-03-09 22:15:49 ---- File \"./test\\NO.071lv0\\NO.07110月会员partme_第1层压缩.rarlv1\\NO.07110月会员partme\\acgbuluo.png\" is not an archive\n",
      "2023-03-09 22:15:49 ----- -- acgbuluo.png cannot be unzipped.\n",
      "2023-03-09 22:15:49 ---- File \"./test\\NO.071lv0\\NO.07110月会员partme_第1层压缩.rarlv1\\NO.07110月会员partme\\御宅部落发布页.url\" is not an archive\n",
      "2023-03-09 22:15:49 ----- -- 御宅部落发布页.url cannot be unzipped.\n",
      "2023-03-09 22:15:49 ---- File \"./test\\NO.071lv0\\NO.07110月会员partme_第1层压缩.rarlv1\\NO.07110月会员partme\\御宅部落说明.txt\" is not an archive\n",
      "2023-03-09 22:15:49 ----- -- 御宅部落说明.txt cannot be unzipped.\n"
     ]
    },
    {
     "name": "stderr",
     "output_type": "stream",
     "text": [
      "  0%|          | 0/5 [00:00<?, ?it/s]"
     ]
    },
    {
     "name": "stdout",
     "output_type": "stream",
     "text": [
      "2023-03-09 22:15:49 ---- File \"./test\\NO.071lv0\\NO.07110月会员partme_第1层压缩.rarlv1\\NO.07110月会员partme\\视频\\V (1).MOV\" is not an archive\n",
      "2023-03-09 22:15:49 ----- -- V (1).MOV cannot be unzipped.\n",
      "2023-03-09 22:15:49 ---- File \"./test\\NO.071lv0\\NO.07110月会员partme_第1层压缩.rarlv1\\NO.07110月会员partme\\视频\\V (1).mp4\" is not an archive\n",
      "2023-03-09 22:15:49 ----- -- V (1).mp4 cannot be unzipped.\n",
      "2023-03-09 22:15:49 ---- File \"./test\\NO.071lv0\\NO.07110月会员partme_第1层压缩.rarlv1\\NO.07110月会员partme\\视频\\V (2).mov\" is not an archive\n"
     ]
    },
    {
     "name": "stderr",
     "output_type": "stream",
     "text": [
      "100%|██████████| 5/5 [00:00<00:00, 52.59it/s]\n"
     ]
    },
    {
     "name": "stdout",
     "output_type": "stream",
     "text": [
      "2023-03-09 22:15:49 ----- -- V (2).mov cannot be unzipped.\n",
      "2023-03-09 22:15:49 ---- File \"./test\\NO.071lv0\\NO.07110月会员partme_第1层压缩.rarlv1\\NO.07110月会员partme\\视频\\V (2).mp4\" is not an archive\n",
      "2023-03-09 22:15:49 ----- -- V (2).mp4 cannot be unzipped.\n",
      "2023-03-09 22:15:49 ---- File \"./test\\NO.071lv0\\NO.07110月会员partme_第1层压缩.rarlv1\\NO.07110月会员partme\\视频\\V (3).mp4\" is not an archive\n",
      "2023-03-09 22:15:49 ----- -- V (3).mp4 cannot be unzipped.\n"
     ]
    },
    {
     "name": "stderr",
     "output_type": "stream",
     "text": [
      "100%|██████████| 1/1 [00:03<00:00,  3.75s/it]\n"
     ]
    },
    {
     "name": "stdout",
     "output_type": "stream",
     "text": [
      "2023-03-09 22:15:53 ----- vv Archive 72第2层压缩.01 has been unzipped to 72第2层压缩.01lv0\n"
     ]
    },
    {
     "name": "stderr",
     "output_type": "stream",
     "text": [
      "100%|██████████| 1/1 [00:11<00:00, 11.13s/it]\n"
     ]
    },
    {
     "name": "stdout",
     "output_type": "stream",
     "text": [
      "2023-03-09 22:16:04 ----- vv Archive 73第2层压缩.01 has been unzipped to 73第2层压缩.01lv0\n"
     ]
    },
    {
     "name": "stderr",
     "output_type": "stream",
     "text": [
      "100%|██████████| 1/1 [00:24<00:00, 24.38s/it]"
     ]
    },
    {
     "name": "stdout",
     "output_type": "stream",
     "text": [
      "2023-03-09 22:16:29 ----- vv Archive 00074第2层压缩.01 has been unzipped to 00074第2层压缩.01lv0\n"
     ]
    },
    {
     "name": "stderr",
     "output_type": "stream",
     "text": [
      "\n"
     ]
    }
   ],
   "source": [
    "# target folder\n",
    "target_folder = './test'\n",
    "uz.main(target=target_folder)"
   ]
  }
 ],
 "metadata": {
  "kernelspec": {
   "display_name": "Python 3.9.7 ('base')",
   "language": "python",
   "name": "python3"
  },
  "language_info": {
   "codemirror_mode": {
    "name": "ipython",
    "version": 3
   },
   "file_extension": ".py",
   "mimetype": "text/x-python",
   "name": "python",
   "nbconvert_exporter": "python",
   "pygments_lexer": "ipython3",
   "version": "3.9.7"
  },
  "orig_nbformat": 4,
  "vscode": {
   "interpreter": {
    "hash": "e3621110486afd2222618b4ea1828be4e87db94289b439ca43965bce39fd4d08"
   }
  }
 },
 "nbformat": 4,
 "nbformat_minor": 2
}
