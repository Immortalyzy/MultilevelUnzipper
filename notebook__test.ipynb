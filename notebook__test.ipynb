{
    "cells": [
        {
            "cell_type": "code",
            "execution_count": 5,
            "metadata": {},
            "outputs": [
                {
                    "ename": "ModuleNotFoundError",
                    "evalue": "No module named 'main'",
                    "output_type": "error",
                    "traceback": [
                        "\u001b[1;31m---------------------------------------------------------------------------\u001b[0m",
                        "\u001b[1;31mModuleNotFoundError\u001b[0m                       Traceback (most recent call last)",
                        "Cell \u001b[1;32mIn[5], line 1\u001b[0m\n\u001b[1;32m----> 1\u001b[0m \u001b[39mimport\u001b[39;00m \u001b[39mmain\u001b[39;00m \u001b[39mas\u001b[39;00m \u001b[39muz\u001b[39;00m\n",
                        "\u001b[1;31mModuleNotFoundError\u001b[0m: No module named 'main'"
                    ]
                }
            ],
            "source": [
                "import MultilevelUnzipper as uz"
            ]
        },
        {
            "cell_type": "code",
            "execution_count": null,
            "metadata": {},
            "outputs": [
                {
                    "data": {
                        "text/plain": [
                            "<module 'main' from 'c:\\\\Users\\\\MrVergil\\\\Desktop\\\\Work\\\\MultilevelUnzipper\\\\main.py'>"
                        ]
                    },
                    "execution_count": 2,
                    "metadata": {},
                    "output_type": "execute_result"
                }
            ],
            "source": [
                "# import the reload module \n",
                "from importlib import reload\n",
                "# reload the module\n",
                "reload(uz)"
            ]
        },
        {
            "cell_type": "code",
            "execution_count": null,
            "metadata": {},
            "outputs": [
                {
                    "data": {
                        "text/plain": [
                            "{'log_to_file': False,\n",
                            " 'log_file_name': 'unzipper_log.txt',\n",
                            " 'zip_excutible_path': 'C:\\\\Program Files\\\\7-Zip\\\\7z.exe',\n",
                            " 'autodelete': False,\n",
                            " 'autodeleteexisting': False,\n",
                            " 'automoveup': False,\n",
                            " 'unzipsubfolder': False,\n",
                            " 'log_level': 3,\n",
                            " 'pass_in_file_seperator': '_'}"
                        ]
                    },
                    "execution_count": 3,
                    "metadata": {},
                    "output_type": "execute_result"
                }
            ],
            "source": [
                "uz.settings\n",
                "uz.read_settings()\n",
                "uz.settings"
            ]
        },
        {
            "cell_type": "code",
            "execution_count": null,
            "metadata": {},
            "outputs": [],
            "source": []
        },
        {
            "cell_type": "code",
            "execution_count": null,
            "metadata": {},
            "outputs": [
                {
                    "name": "stdout",
                    "output_type": "stream",
                    "text": [
                        "Settings file is valid\n",
                        "Settings:\n",
                        "\tlog_to_file : False\n",
                        "\tlog_file_name : unzipper_log.txt\n",
                        "\tzip_excutible_path : C:\\Program Files\\7-Zip\\7z.exe\n",
                        "\tautodelete : False\n",
                        "\tautodeleteexisting : False\n",
                        "\tautomoveup : False\n",
                        "\tunzipsubfolder : False\n",
                        "\tlog_level : 3\n",
                        "\tpass_in_file_seperator : _\n",
                        "2023-04-10 22:04:36 ----- passwords.txt not found\n",
                        "2023-04-10 22:04:36 --- Found 1 passwords in local passwords.txt\n",
                        "2023-04-10 22:04:36 ---- Found 12 passwords in total\n",
                        "Total files: 0, total size: 0.00 MB\n",
                        "Unzipping is taking time, please wait...\n",
                        "2023-04-10 22:04:41 --- Correct password for ./test/asdfa阿瑟尔_onioncake.rar is onioncake (contained in file name), unzipped to ./test/asdfa阿瑟尔_onioncake.rarlv0\n",
                        "2023-04-10 22:04:41 --- Archive ./test/asdfa阿瑟尔_onioncake.rar has been unzipped to ./test/asdfa阿瑟尔_onioncake.rarlv0, going to next level\n",
                        "Unzipping is taking time, please wait...\n",
                        "2023-04-10 22:04:47 --- Correct password for ./test/asdfa阿瑟尔_onioncake.rarlv0\\尼夫海姆的猎人：阿瑟尔的烙印！官方中文.rar is onioncake, unzipped to ./test/asdfa阿瑟尔_onioncake.rarlv0\\尼夫海姆的猎人：阿瑟尔的烙印！官方中文.rarlv1\n",
                        "2023-04-10 22:04:47 --- Files unzipped to ./test/asdfa阿瑟尔_onioncake.rarlv0\\尼夫海姆的猎人：阿瑟尔的烙印！官方中文.rarlv1 is a program, will not go to next level\n"
                    ]
                }
            ],
            "source": [
                "# target folder\n",
                "target_folder = \"./test/test_folder\"\n",
                "uz.main(target=target_folder)\n",
                "#uz.main(target=target_file)\n"
            ]
        },
        {
            "cell_type": "code",
            "execution_count": null,
            "metadata": {},
            "outputs": [
                {
                    "name": "stdout",
                    "output_type": "stream",
                    "text": [
                        "archive.zip does not match\n",
                        "archive.rar does not match\n",
                        "archive.part1.rar does not match\n",
                        "archive.part2.rar matches (non-main archive part)\n",
                        "archive.r00 matches (non-main archive part)\n",
                        "archive.r01 matches (non-main archive part)\n",
                        "archive.z01 matches (non-main archive part)\n",
                        "archive.z02 matches (non-main archive part)\n",
                        "document.pdf does not match\n",
                        "data.part1.zip does not match\n"
                    ]
                }
            ],
            "source": [
                "import re\n",
                "\n",
                "# Updated regular expression to exclude .part1.rar but match other non-main archive parts\n",
                "regex = r'\\.(?:part[2-9]\\d*\\.rar|r\\d+|z\\d+)$'\n",
                "\n",
                "# Example tests\n",
                "test_files = [\n",
                "    \"archive.zip\",        # Main ZIP file (should not match)\n",
                "    \"archive.rar\",        # Main RAR file (should not match)\n",
                "    \"archive.part1.rar\",  # Main part of a multi-part RAR archive (should not match)\n",
                "    \"archive.part2.rar\",  # Part of a multi-part RAR archive (should match)\n",
                "    \"archive.r00\",        # First part of a multi-part RAR archive following another pattern (should match)\n",
                "    \"archive.r01\",        # Subsequent part of a multi-part RAR archive (should match)\n",
                "    \"archive.z01\",        # Part of a multi-part ZIP archive (should match)\n",
                "    \"archive.z02\",        # Part of a multi-part ZIP archive (should match)\n",
                "    \"document.pdf\",       # A regular file (should not match)\n",
                "    \"data.part1.zip\"      # Non-standard naming (should not match)\n",
                "]\n",
                "\n",
                "for file_name in test_files:\n",
                "    if re.search(regex, file_name):\n",
                "        print(f\"{file_name} matches (non-main archive part)\")\n",
                "    else:\n",
                "        print(f\"{file_name} does not match\")\n"
            ]
        }
    ],
    "metadata": {
        "kernelspec": {
            "display_name": "Python 3.9.7 ('base')",
            "language": "python",
            "name": "python3"
        },
        "language_info": {
            "codemirror_mode": {
                "name": "ipython",
                "version": 3
            },
            "file_extension": ".py",
            "mimetype": "text/x-python",
            "name": "python",
            "nbconvert_exporter": "python",
            "pygments_lexer": "ipython3",
            "version": "3.9.18"
        },
        "orig_nbformat": 4,
        "vscode": {
            "interpreter": {
                "hash": "e3621110486afd2222618b4ea1828be4e87db94289b439ca43965bce39fd4d08"
            }
        }
    },
    "nbformat": 4,
    "nbformat_minor": 2
}
