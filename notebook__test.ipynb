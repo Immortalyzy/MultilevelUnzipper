{
    "cells": [
        {
            "cell_type": "code",
            "execution_count": 1,
            "metadata": {},
            "outputs": [],
            "source": [
                "import MultilevelUnzipper as uz"
            ]
        },
        {
            "cell_type": "code",
            "execution_count": 2,
            "metadata": {},
            "outputs": [
                {
                    "data": {
                        "text/plain": [
                            "<module 'MultilevelUnzipper' from 'd:\\\\Work\\\\MultilevelUnzipper\\\\MultilevelUnzipper.py'>"
                        ]
                    },
                    "execution_count": 2,
                    "metadata": {},
                    "output_type": "execute_result"
                }
            ],
            "source": [
                "# import the reload module \n",
                "from importlib import reload\n",
                "# reload the module\n",
                "reload(uz)"
            ]
        },
        {
            "cell_type": "code",
            "execution_count": 3,
            "metadata": {},
            "outputs": [],
            "source": [
                "uz.settings\n",
                "uz.read_settings()\n",
                "uz.settings\n",
                "uz.settings['autodelete'] = True"
            ]
        },
        {
            "cell_type": "code",
            "execution_count": null,
            "metadata": {},
            "outputs": [],
            "source": []
        },
        {
            "cell_type": "code",
            "execution_count": 4,
            "metadata": {},
            "outputs": [
                {
                    "name": "stdout",
                    "output_type": "stream",
                    "text": [
                        "Settings file is valid\n",
                        "Settings:\n",
                        "\tlog_to_file : False\n",
                        "\tlog_file_name : unzipper_log.txt\n",
                        "\tzip_excutible_path : C:\\Program Files\\7-Zip\\7z.exe\n",
                        "\tautodelete : True\n",
                        "\tautodeleteexisting : False\n",
                        "\tautomoveup : False\n",
                        "\tunzipsubfolder : False\n",
                        "\tlog_level : 3\n",
                        "\tpass_in_file_seperator : _\n",
                        "2024-02-04 21:07:39 ----- passwords.txt not found\n",
                        "2024-02-04 21:07:39 --- Found 1 passwords in local passwords.txt\n",
                        "2024-02-04 21:07:39 ---- Found 23 passwords in total\n",
                        "Total files: 2, total size: 2405.85 MB\n"
                    ]
                },
                {
                    "name": "stderr",
                    "output_type": "stream",
                    "text": [
                        "  0%|          | 0/2 [00:00<?, ?it/s]"
                    ]
                },
                {
                    "name": "stdout",
                    "output_type": "stream",
                    "text": [
                        "2024-02-04 21:07:39 ----- File ./test/test_folder/勇者姫前篇.z01 is a multi-archive non-principle part, skipping...\n",
                        "2024-02-04 21:07:39 ----- -- 勇者姫前篇.z01 cannot be unzipped.\n",
                        "Unzipping is taking time (password is Drgon Slayer), please wait...\n",
                        "2024-02-04 21:08:00 --- Correct password for ./test/test_folder/勇者姫前篇.zip is Drgon Slayer, unzipped to ./test/test_folder/勇者姫前篇.ziplv0\n",
                        "2024-02-04 21:08:00 --- Removing 0 multi-part archives\n",
                        "2024-02-04 21:08:00 --- Archive ./test/test_folder/勇者姫前篇.zip has been unzipped to ./test/test_folder/勇者姫前篇.ziplv0, going to next level\n",
                        "Unzipping is taking time (password is Drgon Slayer), please wait...\n"
                    ]
                },
                {
                    "name": "stderr",
                    "output_type": "stream",
                    "text": [
                        "100%|██████████| 2/2 [00:43<00:00, 21.68s/it]"
                    ]
                },
                {
                    "name": "stdout",
                    "output_type": "stream",
                    "text": [
                        "2024-02-04 21:08:23 --- Correct password for ./test/test_folder/勇者姫前篇.ziplv0\\勇者姫前篇.龙灭 is Drgon Slayer, unzipped to ./test/test_folder/勇者姫前篇.ziplv0\\勇者姫前篇.龙灭lv1\n",
                        "2024-02-04 21:08:23 --- Removing 0 multi-part archives\n",
                        "2024-02-04 21:08:23 ----- vv Archive 勇者姫前篇.zip has been unzipped to 勇者姫前篇.ziplv0\n"
                    ]
                },
                {
                    "name": "stderr",
                    "output_type": "stream",
                    "text": [
                        "\n"
                    ]
                }
            ],
            "source": [
                "# target folder\n",
                "target= \"./test/test_folder/\"\n",
                "uz.main(target=target)\n"
            ]
        }
    ],
    "metadata": {
        "kernelspec": {
            "display_name": "Python 3.9.7 ('base')",
            "language": "python",
            "name": "python3"
        },
        "language_info": {
            "codemirror_mode": {
                "name": "ipython",
                "version": 3
            },
            "file_extension": ".py",
            "mimetype": "text/x-python",
            "name": "python",
            "nbconvert_exporter": "python",
            "pygments_lexer": "ipython3",
            "version": "3.9.18"
        },
        "orig_nbformat": 4,
        "vscode": {
            "interpreter": {
                "hash": "e3621110486afd2222618b4ea1828be4e87db94289b439ca43965bce39fd4d08"
            }
        }
    },
    "nbformat": 4,
    "nbformat_minor": 2
}
